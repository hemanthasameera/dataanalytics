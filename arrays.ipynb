{
 "cells": [
  {
   "cell_type": "code",
   "execution_count": 1,
   "id": "b6e2fda7",
   "metadata": {},
   "outputs": [
    {
     "name": "stdout",
     "output_type": "stream",
     "text": [
      "[1 2 3]\n"
     ]
    }
   ],
   "source": [
    "import numpy as np\n",
    "#create a 1d array\n",
    "arr1=np.array([1,2,3])\n",
    "print(arr1)"
   ]
  },
  {
   "cell_type": "code",
   "execution_count": 2,
   "id": "69d3b50c",
   "metadata": {},
   "outputs": [
    {
     "data": {
      "text/plain": [
       "3"
      ]
     },
     "execution_count": 2,
     "metadata": {},
     "output_type": "execute_result"
    }
   ],
   "source": [
    "#acessing  an element from an array\n",
    "\n",
    "arr1[2]\n"
   ]
  },
  {
   "cell_type": "code",
   "execution_count": 3,
   "id": "7a723c82",
   "metadata": {},
   "outputs": [],
   "source": [
    "#change an element \n",
    "arr1[2]=5"
   ]
  },
  {
   "cell_type": "code",
   "execution_count": 4,
   "id": "1bd77af1",
   "metadata": {},
   "outputs": [
    {
     "data": {
      "text/plain": [
       "array([1, 2, 5])"
      ]
     },
     "execution_count": 4,
     "metadata": {},
     "output_type": "execute_result"
    }
   ],
   "source": [
    "arr1"
   ]
  },
  {
   "cell_type": "code",
   "execution_count": 5,
   "id": "edc3741f",
   "metadata": {},
   "outputs": [
    {
     "name": "stdout",
     "output_type": "stream",
     "text": [
      "[[1 2 3]\n",
      " [4 5 6]]\n"
     ]
    }
   ],
   "source": [
    "#create a 2d array\n",
    "arr2 = np.array([[1,2,3],[4,5,6]])\n",
    "print(arr2)"
   ]
  },
  {
   "cell_type": "code",
   "execution_count": 6,
   "id": "d9b8f416",
   "metadata": {},
   "outputs": [
    {
     "name": "stdout",
     "output_type": "stream",
     "text": [
      "The shape is 2 rows and 3 columns (2, 3)\n"
     ]
    }
   ],
   "source": [
    "#check the shape of array\n",
    "print(\"The shape is 2 rows and 3 columns\",arr2.shape)"
   ]
  },
  {
   "cell_type": "code",
   "execution_count": 7,
   "id": "25a4f863",
   "metadata": {},
   "outputs": [
    {
     "name": "stdout",
     "output_type": "stream",
     "text": [
      "3\n",
      "3\n",
      "3\n",
      "4\n"
     ]
    }
   ],
   "source": [
    "#acessing the elements from the array\n",
    "print(arr2[0][2])\n",
    "print(arr2[0,2])\n",
    "print(arr2[0,-1])\n",
    "print(arr2[-1,0])"
   ]
  },
  {
   "cell_type": "code",
   "execution_count": 8,
   "id": "dceb11ee",
   "metadata": {},
   "outputs": [
    {
     "name": "stdout",
     "output_type": "stream",
     "text": [
      "['India' 'china' 'usa' 'mexico']\n"
     ]
    }
   ],
   "source": [
    "# array of type string\n",
    "\n",
    "arr3 = np.array(['India','china','usa','mexico'])\n",
    "print(arr3)"
   ]
  },
  {
   "cell_type": "code",
   "execution_count": 9,
   "id": "b34859a4",
   "metadata": {},
   "outputs": [
    {
     "data": {
      "text/plain": [
       "'china'"
      ]
     },
     "execution_count": 9,
     "metadata": {},
     "output_type": "execute_result"
    }
   ],
   "source": [
    "arr3[1]"
   ]
  },
  {
   "cell_type": "code",
   "execution_count": 10,
   "id": "3f79469c",
   "metadata": {},
   "outputs": [
    {
     "name": "stdout",
     "output_type": "stream",
     "text": [
      "[ 0  2  4  6  8 10 12 14 16 18]\n"
     ]
    }
   ],
   "source": [
    "arr=np.arange(0,20,2)\n",
    "print(arr)"
   ]
  },
  {
   "cell_type": "code",
   "execution_count": 11,
   "id": "c17192d1",
   "metadata": {},
   "outputs": [
    {
     "name": "stdout",
     "output_type": "stream",
     "text": [
      "[ 0. 20.]\n"
     ]
    }
   ],
   "source": [
    "arr=np.linspace(0,20,2)\n",
    "print(arr)"
   ]
  },
  {
   "cell_type": "code",
   "execution_count": 12,
   "id": "d9c4e369",
   "metadata": {},
   "outputs": [
    {
     "name": "stdout",
     "output_type": "stream",
     "text": [
      "[ 0.          0.52631579  1.05263158  1.57894737  2.10526316  2.63157895\n",
      "  3.15789474  3.68421053  4.21052632  4.73684211  5.26315789  5.78947368\n",
      "  6.31578947  6.84210526  7.36842105  7.89473684  8.42105263  8.94736842\n",
      "  9.47368421 10.        ]\n"
     ]
    }
   ],
   "source": [
    "arr=np.linspace(0,10,20)\n",
    "print(arr)"
   ]
  },
  {
   "cell_type": "code",
   "execution_count": 13,
   "id": "7d37ded2",
   "metadata": {},
   "outputs": [
    {
     "name": "stdout",
     "output_type": "stream",
     "text": [
      "[0.44242725 0.93114224 0.51032398 0.20957824 0.70350708 0.90589276\n",
      " 0.61733926 0.18043593 0.22768083 0.99553231]\n",
      "[[0.06245354 0.28417932 0.19109153 0.63707821]\n",
      " [0.83660377 0.66117999 0.22149402 0.18580868]\n",
      " [0.36654456 0.64737322 0.70079869 0.36218105]]\n"
     ]
    }
   ],
   "source": [
    "arr = np.random.rand(10)\n",
    "print(arr)\n",
    "arr = np.random.rand(3,4)\n",
    "print(arr)\n"
   ]
  },
  {
   "cell_type": "code",
   "execution_count": 14,
   "id": "ac656006",
   "metadata": {},
   "outputs": [
    {
     "name": "stdout",
     "output_type": "stream",
     "text": [
      "[[10 10 10 10 10 10]\n",
      " [10 10 10 10 10 10]\n",
      " [10 10 10 10 10 10]\n",
      " [10 10 10 10 10 10]]\n"
     ]
    }
   ],
   "source": [
    "# array of constant values in a given shape\n",
    "\n",
    "print(np.full((4,6),10))"
   ]
  },
  {
   "cell_type": "code",
   "execution_count": 15,
   "id": "75837eaf",
   "metadata": {},
   "outputs": [
    {
     "name": "stdout",
     "output_type": "stream",
     "text": [
      "[0 0 0 1 1 1 2 2 2]\n"
     ]
    }
   ],
   "source": [
    "#create an array by a repetition\n",
    "#repeat each element of an array by a specified number of times\n",
    "\n",
    "arr= [0,1,2]\n",
    "print(np.repeat(arr,3))"
   ]
  },
  {
   "cell_type": "code",
   "execution_count": 16,
   "id": "7a98a17d",
   "metadata": {},
   "outputs": [
    {
     "name": "stdout",
     "output_type": "stream",
     "text": [
      "[0 1 2 0 1 2 0 1 2]\n"
     ]
    }
   ],
   "source": [
    "arr= [0,1,2]\n",
    "print(np.tile(arr,3))"
   ]
  },
  {
   "cell_type": "code",
   "execution_count": 17,
   "id": "e5ebb0b7",
   "metadata": {},
   "outputs": [
    {
     "name": "stdout",
     "output_type": "stream",
     "text": [
      "[[1. 0. 0.]\n",
      " [0. 1. 0.]\n",
      " [0. 0. 1.]]\n"
     ]
    }
   ],
   "source": [
    "identity_matrix = np.eye(3)\n",
    "print(identity_matrix)"
   ]
  },
  {
   "cell_type": "code",
   "execution_count": 20,
   "id": "2bf1e998",
   "metadata": {},
   "outputs": [
    {
     "name": "stdout",
     "output_type": "stream",
     "text": [
      "[[0.11015432 0.08044598 0.31430968 0.11835313 0.90990866]\n",
      " [0.20430105 0.043307   0.52265423 0.13480663 0.0799356 ]\n",
      " [0.46632998 0.94396283 0.27330202 0.29697435 0.01850678]\n",
      " [0.86700828 0.81820994 0.09487309 0.94333383 0.68596676]\n",
      " [0.77521211 0.17841627 0.59564258 0.9461342  0.56966364]]\n"
     ]
    }
   ],
   "source": [
    "arr = np.random.rand(5,5)\n",
    "print(arr)"
   ]
  },
  {
   "cell_type": "code",
   "execution_count": 21,
   "id": "de9adddf",
   "metadata": {},
   "outputs": [
    {
     "name": "stdout",
     "output_type": "stream",
     "text": [
      "[[1. 0. 0.]\n",
      " [0. 1. 0.]\n",
      " [0. 0. 1.]]\n"
     ]
    }
   ],
   "source": [
    "identity_matrix = np.identity(3)\n",
    "print(identity_matrix)"
   ]
  },
  {
   "cell_type": "code",
   "execution_count": 22,
   "id": "35065844",
   "metadata": {},
   "outputs": [
    {
     "name": "stdout",
     "output_type": "stream",
     "text": [
      "[2.42300574 2.06434202 1.80078161 2.43960214 2.26398145]\n"
     ]
    }
   ],
   "source": [
    "#sum along the column\n",
    "\n",
    "print(np.sum(arr,axis=0))"
   ]
  },
  {
   "cell_type": "code",
   "execution_count": 23,
   "id": "f3129129",
   "metadata": {},
   "outputs": [
    {
     "name": "stdout",
     "output_type": "stream",
     "text": [
      "[2.42300574 2.06434202 1.80078161 2.43960214 2.26398145]\n"
     ]
    }
   ],
   "source": [
    "#sum along the row\n",
    "\n",
    "print(np.sum(arr,axis=0))"
   ]
  },
  {
   "cell_type": "code",
   "execution_count": 24,
   "id": "bd9e3825",
   "metadata": {},
   "outputs": [
    {
     "name": "stdout",
     "output_type": "stream",
     "text": [
      "0.4396685180632295\n",
      "0.31430968437131934\n",
      "0.3309135870751901\n",
      "0.10950380211096941\n"
     ]
    }
   ],
   "source": [
    "print(np.mean(arr))\n",
    "print(np.median(arr))\n",
    "print(np.std(arr))\n",
    "print(np.var(arr))"
   ]
  },
  {
   "cell_type": "code",
   "execution_count": 25,
   "id": "c5d73a12",
   "metadata": {},
   "outputs": [
    {
     "name": "stdout",
     "output_type": "stream",
     "text": [
      "[[0.26193199 0.89595918 0.4111388  0.30071062 0.46678095]\n",
      " [0.54356282 0.26328204 0.75168834 0.10233977 0.72115107]\n",
      " [0.01993091 0.70094388 0.7570547  0.98396245 0.83894589]\n",
      " [0.01407101 0.42405131 0.52280782 0.60650983 0.80146247]\n",
      " [0.95641999 0.92185406 0.05426353 0.72463936 0.02285753]]\n"
     ]
    }
   ],
   "source": [
    "#sort an array\n",
    "arr=np.random.rand(5,5)\n",
    "print(arr)"
   ]
  },
  {
   "cell_type": "code",
   "execution_count": 26,
   "id": "98349e25",
   "metadata": {},
   "outputs": [
    {
     "name": "stdout",
     "output_type": "stream",
     "text": [
      "[[0.26193199 0.30071062 0.4111388  0.46678095 0.89595918]\n",
      " [0.10233977 0.26328204 0.54356282 0.72115107 0.75168834]\n",
      " [0.01993091 0.70094388 0.7570547  0.83894589 0.98396245]\n",
      " [0.01407101 0.42405131 0.52280782 0.60650983 0.80146247]\n",
      " [0.02285753 0.05426353 0.72463936 0.92185406 0.95641999]]\n"
     ]
    }
   ],
   "source": [
    "#sorting along the row\n",
    "\n",
    "\n",
    "print(np.sort(arr,axis=1))"
   ]
  },
  {
   "cell_type": "code",
   "execution_count": 27,
   "id": "0a15dcda",
   "metadata": {},
   "outputs": [],
   "source": [
    "#append elements to an array\n",
    "arr = np.array([4,5,6,7])"
   ]
  },
  {
   "cell_type": "code",
   "execution_count": 28,
   "id": "55e72976",
   "metadata": {},
   "outputs": [
    {
     "data": {
      "text/plain": [
       "array([4, 5, 6, 7, 8])"
      ]
     },
     "execution_count": 28,
     "metadata": {},
     "output_type": "execute_result"
    }
   ],
   "source": [
    "arr1 = np.append(arr,8)\n",
    "arr1\n"
   ]
  },
  {
   "cell_type": "code",
   "execution_count": 29,
   "id": "64bacd34",
   "metadata": {},
   "outputs": [
    {
     "name": "stdout",
     "output_type": "stream",
     "text": [
      "[ 4  5  6  7  9 10 11]\n"
     ]
    }
   ],
   "source": [
    "arr2 = np.append(arr,[9,10,11])\n",
    "print(arr2)"
   ]
  },
  {
   "cell_type": "code",
   "execution_count": 30,
   "id": "d7fafa8a",
   "metadata": {},
   "outputs": [
    {
     "name": "stdout",
     "output_type": "stream",
     "text": [
      "[ 4  5  6  7  9 10 11]\n",
      "\n",
      "\n",
      "[ 4  6  7 10 11]\n"
     ]
    }
   ],
   "source": [
    "#delete multiple elements\n",
    "arr2 = np.array([4,5,6,7,9,10,11])\n",
    "print(arr2)\n",
    "print('\\n')\n",
    "arr5=np.delete(arr2,[1,4])\n",
    "print(arr5)"
   ]
  },
  {
   "cell_type": "code",
   "execution_count": 31,
   "id": "477f42eb",
   "metadata": {},
   "outputs": [],
   "source": [
    "arr1=np.array([[1,2,3,4],[1,2,3,4]])\n",
    "arr2=np.array([[5,6,7,8],[5,6,7,8]])"
   ]
  },
  {
   "cell_type": "code",
   "execution_count": 32,
   "id": "62c594ba",
   "metadata": {},
   "outputs": [
    {
     "name": "stdout",
     "output_type": "stream",
     "text": [
      "[[1 2 3 4]\n",
      " [1 2 3 4]\n",
      " [5 6 7 8]\n",
      " [5 6 7 8]]\n"
     ]
    }
   ],
   "source": [
    "cat = np.concatenate((arr1,arr2),axis=0)\n",
    "print(cat)"
   ]
  },
  {
   "cell_type": "code",
   "execution_count": 33,
   "id": "6c876355",
   "metadata": {},
   "outputs": [
    {
     "name": "stdout",
     "output_type": "stream",
     "text": [
      "[[1 2 3 4 5 6 7 8]\n",
      " [1 2 3 4 5 6 7 8]]\n"
     ]
    }
   ],
   "source": [
    "cat = np.concatenate((arr1,arr2),axis=1)\n",
    "print(cat)"
   ]
  },
  {
   "cell_type": "code",
   "execution_count": null,
   "id": "ee83fb39",
   "metadata": {},
   "outputs": [],
   "source": []
  }
 ],
 "metadata": {
  "kernelspec": {
   "display_name": "Python 3 (ipykernel)",
   "language": "python",
   "name": "python3"
  },
  "language_info": {
   "codemirror_mode": {
    "name": "ipython",
    "version": 3
   },
   "file_extension": ".py",
   "mimetype": "text/x-python",
   "name": "python",
   "nbconvert_exporter": "python",
   "pygments_lexer": "ipython3",
   "version": "3.9.7"
  }
 },
 "nbformat": 4,
 "nbformat_minor": 5
}
